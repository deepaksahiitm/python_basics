{
 "cells": [
  {
   "cell_type": "markdown",
   "id": "d89085d7",
   "metadata": {},
   "source": [
    "# Python_Basics"
   ]
  },
  {
   "cell_type": "markdown",
   "id": "2d2bc731",
   "metadata": {},
   "source": [
    "## List"
   ]
  },
  {
   "cell_type": "code",
   "execution_count": 1,
   "id": "ad2edd77",
   "metadata": {},
   "outputs": [],
   "source": [
    "player=[23,45,78,45,35]"
   ]
  },
  {
   "cell_type": "code",
   "execution_count": 2,
   "id": "daf5e641",
   "metadata": {},
   "outputs": [
    {
     "data": {
      "text/plain": [
       "23"
      ]
     },
     "execution_count": 2,
     "metadata": {},
     "output_type": "execute_result"
    }
   ],
   "source": [
    "player[0]"
   ]
  },
  {
   "cell_type": "code",
   "execution_count": 3,
   "id": "39b33db8",
   "metadata": {},
   "outputs": [],
   "source": [
    "player[3]=54"
   ]
  },
  {
   "cell_type": "code",
   "execution_count": 4,
   "id": "d7a57b99",
   "metadata": {},
   "outputs": [
    {
     "data": {
      "text/plain": [
       "[23, 45, 78, 54, 35]"
      ]
     },
     "execution_count": 4,
     "metadata": {},
     "output_type": "execute_result"
    }
   ],
   "source": [
    "player"
   ]
  },
  {
   "cell_type": "code",
   "execution_count": 5,
   "id": "18001821",
   "metadata": {},
   "outputs": [],
   "source": [
    "players=player + [23,76,89]"
   ]
  },
  {
   "cell_type": "code",
   "execution_count": 6,
   "id": "37b1cbff",
   "metadata": {},
   "outputs": [
    {
     "data": {
      "text/plain": [
       "[23, 45, 78, 54, 35, 23, 76, 89]"
      ]
     },
     "execution_count": 6,
     "metadata": {},
     "output_type": "execute_result"
    }
   ],
   "source": [
    "players"
   ]
  },
  {
   "cell_type": "code",
   "execution_count": 7,
   "id": "e962c1a2",
   "metadata": {},
   "outputs": [],
   "source": [
    "player.append(12)"
   ]
  },
  {
   "cell_type": "code",
   "execution_count": 8,
   "id": "97f61f43",
   "metadata": {},
   "outputs": [],
   "source": [
    "player[1:4]=[0,0]"
   ]
  },
  {
   "cell_type": "code",
   "execution_count": 9,
   "id": "75ed2a96",
   "metadata": {},
   "outputs": [],
   "source": [
    "player[:3]=[]"
   ]
  },
  {
   "cell_type": "code",
   "execution_count": 10,
   "id": "d183f3d7",
   "metadata": {},
   "outputs": [],
   "source": [
    "player[:]=[]"
   ]
  },
  {
   "cell_type": "code",
   "execution_count": 11,
   "id": "48f9b245",
   "metadata": {},
   "outputs": [
    {
     "data": {
      "text/plain": [
       "[]"
      ]
     },
     "execution_count": 11,
     "metadata": {},
     "output_type": "execute_result"
    }
   ],
   "source": [
    "player"
   ]
  },
  {
   "cell_type": "markdown",
   "id": "248f9007",
   "metadata": {},
   "source": [
    "## Functions"
   ]
  },
  {
   "cell_type": "markdown",
   "id": "3f64fa2a",
   "metadata": {},
   "source": [
    "### if_elif_else"
   ]
  },
  {
   "cell_type": "code",
   "execution_count": 28,
   "id": "6a2d3e4c",
   "metadata": {},
   "outputs": [
    {
     "name": "stdout",
     "output_type": "stream",
     "text": [
      "Hi deepak\n"
     ]
    }
   ],
   "source": [
    "name=\"deepak\"\n",
    "if name == \"deepak\":\n",
    "    print(\"Hi deepak\")\n",
    "elif name == \"hariom\":\n",
    "    print(\"Hi hariom\")\n",
    "else: \n",
    "    print(\"You are not registered\")"
   ]
  },
  {
   "cell_type": "markdown",
   "id": "4294eef3",
   "metadata": {},
   "source": [
    "## for loops"
   ]
  },
  {
   "cell_type": "code",
   "execution_count": 13,
   "id": "6b55c2c9",
   "metadata": {},
   "outputs": [
    {
     "name": "stdout",
     "output_type": "stream",
     "text": [
      "12\n",
      "2\n",
      "deepak\n",
      "6\n",
      "ramesh\n",
      "6\n",
      "football\n",
      "8\n"
     ]
    }
   ],
   "source": [
    "deep = ['12','deepak','ramesh','football']\n",
    "for f in deep:\n",
    "    print(f)\n",
    "    print(len(f))"
   ]
  },
  {
   "cell_type": "code",
   "execution_count": 14,
   "id": "16a88b52",
   "metadata": {},
   "outputs": [
    {
     "name": "stdout",
     "output_type": "stream",
     "text": [
      "1\n",
      "9\n",
      "25\n",
      "49\n",
      "81\n",
      "121\n"
     ]
    }
   ],
   "source": [
    "for x in range(1,12,2):\n",
    "    print(x*x)"
   ]
  },
  {
   "cell_type": "markdown",
   "id": "94e7bf83",
   "metadata": {},
   "source": [
    "## While loop"
   ]
  },
  {
   "cell_type": "code",
   "execution_count": 15,
   "id": "769d5f51",
   "metadata": {},
   "outputs": [
    {
     "name": "stdout",
     "output_type": "stream",
     "text": [
      "4\n",
      "5\n",
      "6\n",
      "7\n",
      "8\n",
      "9\n",
      "10\n"
     ]
    }
   ],
   "source": [
    "deep=4\n",
    "while deep<=10:\n",
    "    print(deep)\n",
    "    deep += 1"
   ]
  },
  {
   "cell_type": "markdown",
   "id": "7f42d550",
   "metadata": {},
   "source": [
    "## Break and continue"
   ]
  },
  {
   "cell_type": "code",
   "execution_count": 16,
   "id": "4df776e0",
   "metadata": {},
   "outputs": [
    {
     "name": "stdout",
     "output_type": "stream",
     "text": [
      "0\n",
      "1\n",
      "2\n",
      "3\n",
      "4\n",
      "5\n",
      "6\n",
      "7\n",
      "8\n",
      "9 is the magic number\n"
     ]
    }
   ],
   "source": [
    "magicnumber =9\n",
    "for n in range(10):\n",
    "    if n is magicnumber:\n",
    "        print(n,\"is the magic number\")\n",
    "        break\n",
    "    else:\n",
    "        print(n)"
   ]
  },
  {
   "cell_type": "code",
   "execution_count": 17,
   "id": "99856ceb",
   "metadata": {},
   "outputs": [
    {
     "name": "stdout",
     "output_type": "stream",
     "text": [
      "0\n",
      "2\n",
      "3\n",
      "6\n",
      "8\n",
      "9\n"
     ]
    }
   ],
   "source": [
    "notallowed=[1,4,5,7]\n",
    "for n in range(10):\n",
    "    if n in notallowed:\n",
    "        continue\n",
    "    print(n)"
   ]
  },
  {
   "cell_type": "markdown",
   "id": "7d445a4f",
   "metadata": {},
   "source": [
    "## Defining Functions"
   ]
  },
  {
   "cell_type": "code",
   "execution_count": 30,
   "id": "15ce89f4",
   "metadata": {},
   "outputs": [
    {
     "name": "stdout",
     "output_type": "stream",
     "text": [
      "Deepak is learning Python\n",
      "480000\n"
     ]
    }
   ],
   "source": [
    "def deep():\n",
    "    print(\"Deepak is learning Python\")\n",
    "deep()\n",
    "\n",
    "def btc_to_INR(btc):\n",
    "    amount=btc*40000\n",
    "    print(amount)\n",
    "btc_to_INR(12)"
   ]
  },
  {
   "cell_type": "code",
   "execution_count": 31,
   "id": "e1646b96",
   "metadata": {},
   "outputs": [
    {
     "name": "stdout",
     "output_type": "stream",
     "text": [
      "Deepak you can date with 19.5 years girl\n"
     ]
    }
   ],
   "source": [
    "def datingage(age):\n",
    "    girlagelimit=age/2 +8\n",
    "    return girlagelimit\n",
    "mylimit= datingage(23)\n",
    "print(\"Deepak you can date with\",mylimit,\"years girl\")"
   ]
  },
  {
   "cell_type": "code",
   "execution_count": 29,
   "id": "af5f3b18",
   "metadata": {},
   "outputs": [
    {
     "name": "stdout",
     "output_type": "stream",
     "text": [
      "Male\n",
      "Female\n",
      "unknown\n"
     ]
    }
   ],
   "source": [
    "def gender(sex=\"unknown\"):\n",
    "    if sex == \"M\":\n",
    "        sex=\"Male\"\n",
    "    elif sex == \"F\":\n",
    "        sex=\"Female\"\n",
    "    print(sex)\n",
    "        \n",
    "gender(\"M\")\n",
    "gender(\"F\")\n",
    "gender()"
   ]
  },
  {
   "cell_type": "code",
   "execution_count": 21,
   "id": "64103495",
   "metadata": {},
   "outputs": [
    {
     "name": "stdout",
     "output_type": "stream",
     "text": [
      "deepak is good\n",
      "bivek is good\n",
      "deepak is bad\n"
     ]
    }
   ],
   "source": [
    "def key_arg(s=\"deepak\",p=\"is\",q=\"good\"):\n",
    "    print(s,p,q)\n",
    "    \n",
    "key_arg()\n",
    "key_arg(\"bivek\",\"is\",\"good\")\n",
    "key_arg(q=\"bad\")"
   ]
  },
  {
   "cell_type": "code",
   "execution_count": 22,
   "id": "fccfdffd",
   "metadata": {},
   "outputs": [
    {
     "name": "stdout",
     "output_type": "stream",
     "text": [
      "3\n",
      "97\n"
     ]
    }
   ],
   "source": [
    "def add_numbers(*arg):\n",
    "    total=0\n",
    "    for a in arg:\n",
    "        total+=a\n",
    "    print(total)\n",
    "add_numbers(3)\n",
    "add_numbers(6,7,84)\n",
    "    "
   ]
  },
  {
   "cell_type": "code",
   "execution_count": 23,
   "id": "a92b4652",
   "metadata": {},
   "outputs": [
    {
     "name": "stdout",
     "output_type": "stream",
     "text": [
      "80.0\n"
     ]
    }
   ],
   "source": [
    "def health_calculator(age,apple,ciggarete):\n",
    "    answer=(100-age)+apple*3.5 -ciggarete*2\n",
    "    print(answer)\n",
    "data=[24,4,5]\n",
    "health_calculator(*data)"
   ]
  },
  {
   "cell_type": "markdown",
   "id": "6d153541",
   "metadata": {},
   "source": [
    "## Sets"
   ]
  },
  {
   "cell_type": "code",
   "execution_count": 24,
   "id": "432f1ebf",
   "metadata": {},
   "outputs": [
    {
     "name": "stdout",
     "output_type": "stream",
     "text": [
      "milk cost is 25 per packet\n"
     ]
    }
   ],
   "source": [
    "shop={'milk','biscuit','milk','rice','potato'}\n",
    "if 'milk' in  shop:\n",
    "    print(\"milk cost is 25 per packet\")\n",
    "else:\n",
    "    print(\"milk is nor available\")"
   ]
  },
  {
   "cell_type": "markdown",
   "id": "83f2b7f7",
   "metadata": {},
   "source": [
    "## Dictionaries"
   ]
  },
  {
   "cell_type": "code",
   "execution_count": 25,
   "id": "0c81aec0",
   "metadata": {},
   "outputs": [
    {
     "name": "stdout",
     "output_type": "stream",
     "text": [
      "speaks alot\n",
      "deep speaks alot\n",
      "ram is a silient guy\n",
      "hari likes reena\n"
     ]
    }
   ],
   "source": [
    "classmates={'deep': 'speaks alot','ram':'is a silient guy','hari':'likes reena'}\n",
    "print(classmates['deep'])\n",
    "for k,v in classmates.items():\n",
    "    print(k+\" \" + v)"
   ]
  },
  {
   "cell_type": "code",
   "execution_count": null,
   "id": "38128e58",
   "metadata": {},
   "outputs": [],
   "source": []
  }
 ],
 "metadata": {
  "kernelspec": {
   "display_name": "Python 3",
   "language": "python",
   "name": "python3"
  },
  "language_info": {
   "codemirror_mode": {
    "name": "ipython",
    "version": 3
   },
   "file_extension": ".py",
   "mimetype": "text/x-python",
   "name": "python",
   "nbconvert_exporter": "python",
   "pygments_lexer": "ipython3",
   "version": "3.8.8"
  }
 },
 "nbformat": 4,
 "nbformat_minor": 5
}
